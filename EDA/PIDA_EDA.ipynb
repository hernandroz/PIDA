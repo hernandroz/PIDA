{
  "nbformat": 4,
  "nbformat_minor": 0,
  "metadata": {
    "colab": {
      "provenance": []
    },
    "kernelspec": {
      "name": "python3",
      "display_name": "Python 3"
    },
    "language_info": {
      "name": "python"
    }
  },
  "cells": [
    {
      "cell_type": "markdown",
      "source": [
        "**Transformación de los datos**"
      ],
      "metadata": {
        "id": "K0hgJIcN-ybd"
      }
    },
    {
      "cell_type": "code",
      "source": [
        "#Cargamos el dataset\n",
        "import pandas as pd\n",
        "df = pd.read_csv(\"/content/drive/MyDrive/datasets_colab/AccidentesAviones.csv\")\n",
        "\n",
        "#Cambiaremos el nombre de la columna 'Ruta' por 'Location' por ser más adecuado\n",
        "df = df.rename(columns={'Ruta': 'Location'})\n",
        "\n",
        "df.head()"
      ],
      "metadata": {
        "id": "ZtI2TQSfQtG_",
        "colab": {
          "base_uri": "https://localhost:8080/",
          "height": 565
        },
        "outputId": "538df133-591c-4fc7-85c7-61e1a8b60332"
      },
      "execution_count": 103,
      "outputs": [
        {
          "output_type": "execute_result",
          "data": {
            "text/plain": [
              "   id               fecha HORA declarada                            Location  \\\n",
              "0   0  September 17, 1908           1718                 Fort Myer, Virginia   \n",
              "1   1  September 07, 1909              ?             Juvisy-sur-Orge, France   \n",
              "2   2       July 12, 1912           0630           Atlantic City, New Jersey   \n",
              "3   3     August 06, 1913              ?  Victoria, British Columbia, Canada   \n",
              "4   4  September 09, 1913           1830                  Over the North Sea   \n",
              "\n",
              "                 OperadOR flight_no          route                 ac_type  \\\n",
              "0    Military - U.S. Army         ?  Demonstration        Wright Flyer III   \n",
              "1                       ?         ?       Air show          Wright Byplane   \n",
              "2    Military - U.S. Navy         ?    Test flight               Dirigible   \n",
              "3                 Private         ?              ?        Curtiss seaplane   \n",
              "4  Military - German Navy         ?              ?  Zeppelin L-1 (airship)   \n",
              "\n",
              "  registration cn_ln all_aboard PASAJEROS A BORDO crew_aboard  \\\n",
              "0            ?     1          2                 1           1   \n",
              "1          SC1     ?          1                 0           1   \n",
              "2            ?     ?          5                 0           5   \n",
              "3            ?     ?          1                 0           1   \n",
              "4            ?     ?         20                 ?           ?   \n",
              "\n",
              "  cantidad de fallecidos passenger_fatalities crew_fatalities ground  \\\n",
              "0                      1                    1               0      0   \n",
              "1                      1                    0               0      0   \n",
              "2                      5                    0               5      0   \n",
              "3                      1                    0               1      0   \n",
              "4                     14                    ?               ?      0   \n",
              "\n",
              "                                             summary  \n",
              "0  During a demonstration flight, a U.S. Army fly...  \n",
              "1  Eugene Lefebvre was the first pilot to ever be...  \n",
              "2  First U.S. dirigible Akron exploded just offsh...  \n",
              "3  The first fatal airplane accident in Canada oc...  \n",
              "4  The airship flew into a thunderstorm and encou...  "
            ],
            "text/html": [
              "\n",
              "  <div id=\"df-3d916cf0-27e7-4caf-86e8-abd7dbeba38e\">\n",
              "    <div class=\"colab-df-container\">\n",
              "      <div>\n",
              "<style scoped>\n",
              "    .dataframe tbody tr th:only-of-type {\n",
              "        vertical-align: middle;\n",
              "    }\n",
              "\n",
              "    .dataframe tbody tr th {\n",
              "        vertical-align: top;\n",
              "    }\n",
              "\n",
              "    .dataframe thead th {\n",
              "        text-align: right;\n",
              "    }\n",
              "</style>\n",
              "<table border=\"1\" class=\"dataframe\">\n",
              "  <thead>\n",
              "    <tr style=\"text-align: right;\">\n",
              "      <th></th>\n",
              "      <th>id</th>\n",
              "      <th>fecha</th>\n",
              "      <th>HORA declarada</th>\n",
              "      <th>Location</th>\n",
              "      <th>OperadOR</th>\n",
              "      <th>flight_no</th>\n",
              "      <th>route</th>\n",
              "      <th>ac_type</th>\n",
              "      <th>registration</th>\n",
              "      <th>cn_ln</th>\n",
              "      <th>all_aboard</th>\n",
              "      <th>PASAJEROS A BORDO</th>\n",
              "      <th>crew_aboard</th>\n",
              "      <th>cantidad de fallecidos</th>\n",
              "      <th>passenger_fatalities</th>\n",
              "      <th>crew_fatalities</th>\n",
              "      <th>ground</th>\n",
              "      <th>summary</th>\n",
              "    </tr>\n",
              "  </thead>\n",
              "  <tbody>\n",
              "    <tr>\n",
              "      <th>0</th>\n",
              "      <td>0</td>\n",
              "      <td>September 17, 1908</td>\n",
              "      <td>1718</td>\n",
              "      <td>Fort Myer, Virginia</td>\n",
              "      <td>Military - U.S. Army</td>\n",
              "      <td>?</td>\n",
              "      <td>Demonstration</td>\n",
              "      <td>Wright Flyer III</td>\n",
              "      <td>?</td>\n",
              "      <td>1</td>\n",
              "      <td>2</td>\n",
              "      <td>1</td>\n",
              "      <td>1</td>\n",
              "      <td>1</td>\n",
              "      <td>1</td>\n",
              "      <td>0</td>\n",
              "      <td>0</td>\n",
              "      <td>During a demonstration flight, a U.S. Army fly...</td>\n",
              "    </tr>\n",
              "    <tr>\n",
              "      <th>1</th>\n",
              "      <td>1</td>\n",
              "      <td>September 07, 1909</td>\n",
              "      <td>?</td>\n",
              "      <td>Juvisy-sur-Orge, France</td>\n",
              "      <td>?</td>\n",
              "      <td>?</td>\n",
              "      <td>Air show</td>\n",
              "      <td>Wright Byplane</td>\n",
              "      <td>SC1</td>\n",
              "      <td>?</td>\n",
              "      <td>1</td>\n",
              "      <td>0</td>\n",
              "      <td>1</td>\n",
              "      <td>1</td>\n",
              "      <td>0</td>\n",
              "      <td>0</td>\n",
              "      <td>0</td>\n",
              "      <td>Eugene Lefebvre was the first pilot to ever be...</td>\n",
              "    </tr>\n",
              "    <tr>\n",
              "      <th>2</th>\n",
              "      <td>2</td>\n",
              "      <td>July 12, 1912</td>\n",
              "      <td>0630</td>\n",
              "      <td>Atlantic City, New Jersey</td>\n",
              "      <td>Military - U.S. Navy</td>\n",
              "      <td>?</td>\n",
              "      <td>Test flight</td>\n",
              "      <td>Dirigible</td>\n",
              "      <td>?</td>\n",
              "      <td>?</td>\n",
              "      <td>5</td>\n",
              "      <td>0</td>\n",
              "      <td>5</td>\n",
              "      <td>5</td>\n",
              "      <td>0</td>\n",
              "      <td>5</td>\n",
              "      <td>0</td>\n",
              "      <td>First U.S. dirigible Akron exploded just offsh...</td>\n",
              "    </tr>\n",
              "    <tr>\n",
              "      <th>3</th>\n",
              "      <td>3</td>\n",
              "      <td>August 06, 1913</td>\n",
              "      <td>?</td>\n",
              "      <td>Victoria, British Columbia, Canada</td>\n",
              "      <td>Private</td>\n",
              "      <td>?</td>\n",
              "      <td>?</td>\n",
              "      <td>Curtiss seaplane</td>\n",
              "      <td>?</td>\n",
              "      <td>?</td>\n",
              "      <td>1</td>\n",
              "      <td>0</td>\n",
              "      <td>1</td>\n",
              "      <td>1</td>\n",
              "      <td>0</td>\n",
              "      <td>1</td>\n",
              "      <td>0</td>\n",
              "      <td>The first fatal airplane accident in Canada oc...</td>\n",
              "    </tr>\n",
              "    <tr>\n",
              "      <th>4</th>\n",
              "      <td>4</td>\n",
              "      <td>September 09, 1913</td>\n",
              "      <td>1830</td>\n",
              "      <td>Over the North Sea</td>\n",
              "      <td>Military - German Navy</td>\n",
              "      <td>?</td>\n",
              "      <td>?</td>\n",
              "      <td>Zeppelin L-1 (airship)</td>\n",
              "      <td>?</td>\n",
              "      <td>?</td>\n",
              "      <td>20</td>\n",
              "      <td>?</td>\n",
              "      <td>?</td>\n",
              "      <td>14</td>\n",
              "      <td>?</td>\n",
              "      <td>?</td>\n",
              "      <td>0</td>\n",
              "      <td>The airship flew into a thunderstorm and encou...</td>\n",
              "    </tr>\n",
              "  </tbody>\n",
              "</table>\n",
              "</div>\n",
              "      <button class=\"colab-df-convert\" onclick=\"convertToInteractive('df-3d916cf0-27e7-4caf-86e8-abd7dbeba38e')\"\n",
              "              title=\"Convert this dataframe to an interactive table.\"\n",
              "              style=\"display:none;\">\n",
              "        \n",
              "  <svg xmlns=\"http://www.w3.org/2000/svg\" height=\"24px\"viewBox=\"0 0 24 24\"\n",
              "       width=\"24px\">\n",
              "    <path d=\"M0 0h24v24H0V0z\" fill=\"none\"/>\n",
              "    <path d=\"M18.56 5.44l.94 2.06.94-2.06 2.06-.94-2.06-.94-.94-2.06-.94 2.06-2.06.94zm-11 1L8.5 8.5l.94-2.06 2.06-.94-2.06-.94L8.5 2.5l-.94 2.06-2.06.94zm10 10l.94 2.06.94-2.06 2.06-.94-2.06-.94-.94-2.06-.94 2.06-2.06.94z\"/><path d=\"M17.41 7.96l-1.37-1.37c-.4-.4-.92-.59-1.43-.59-.52 0-1.04.2-1.43.59L10.3 9.45l-7.72 7.72c-.78.78-.78 2.05 0 2.83L4 21.41c.39.39.9.59 1.41.59.51 0 1.02-.2 1.41-.59l7.78-7.78 2.81-2.81c.8-.78.8-2.07 0-2.86zM5.41 20L4 18.59l7.72-7.72 1.47 1.35L5.41 20z\"/>\n",
              "  </svg>\n",
              "      </button>\n",
              "      \n",
              "  <style>\n",
              "    .colab-df-container {\n",
              "      display:flex;\n",
              "      flex-wrap:wrap;\n",
              "      gap: 12px;\n",
              "    }\n",
              "\n",
              "    .colab-df-convert {\n",
              "      background-color: #E8F0FE;\n",
              "      border: none;\n",
              "      border-radius: 50%;\n",
              "      cursor: pointer;\n",
              "      display: none;\n",
              "      fill: #1967D2;\n",
              "      height: 32px;\n",
              "      padding: 0 0 0 0;\n",
              "      width: 32px;\n",
              "    }\n",
              "\n",
              "    .colab-df-convert:hover {\n",
              "      background-color: #E2EBFA;\n",
              "      box-shadow: 0px 1px 2px rgba(60, 64, 67, 0.3), 0px 1px 3px 1px rgba(60, 64, 67, 0.15);\n",
              "      fill: #174EA6;\n",
              "    }\n",
              "\n",
              "    [theme=dark] .colab-df-convert {\n",
              "      background-color: #3B4455;\n",
              "      fill: #D2E3FC;\n",
              "    }\n",
              "\n",
              "    [theme=dark] .colab-df-convert:hover {\n",
              "      background-color: #434B5C;\n",
              "      box-shadow: 0px 1px 3px 1px rgba(0, 0, 0, 0.15);\n",
              "      filter: drop-shadow(0px 1px 2px rgba(0, 0, 0, 0.3));\n",
              "      fill: #FFFFFF;\n",
              "    }\n",
              "  </style>\n",
              "\n",
              "      <script>\n",
              "        const buttonEl =\n",
              "          document.querySelector('#df-3d916cf0-27e7-4caf-86e8-abd7dbeba38e button.colab-df-convert');\n",
              "        buttonEl.style.display =\n",
              "          google.colab.kernel.accessAllowed ? 'block' : 'none';\n",
              "\n",
              "        async function convertToInteractive(key) {\n",
              "          const element = document.querySelector('#df-3d916cf0-27e7-4caf-86e8-abd7dbeba38e');\n",
              "          const dataTable =\n",
              "            await google.colab.kernel.invokeFunction('convertToInteractive',\n",
              "                                                     [key], {});\n",
              "          if (!dataTable) return;\n",
              "\n",
              "          const docLinkHtml = 'Like what you see? Visit the ' +\n",
              "            '<a target=\"_blank\" href=https://colab.research.google.com/notebooks/data_table.ipynb>data table notebook</a>'\n",
              "            + ' to learn more about interactive tables.';\n",
              "          element.innerHTML = '';\n",
              "          dataTable['output_type'] = 'display_data';\n",
              "          await google.colab.output.renderOutput(dataTable, element);\n",
              "          const docLink = document.createElement('div');\n",
              "          docLink.innerHTML = docLinkHtml;\n",
              "          element.appendChild(docLink);\n",
              "        }\n",
              "      </script>\n",
              "    </div>\n",
              "  </div>\n",
              "  "
            ]
          },
          "metadata": {},
          "execution_count": 103
        }
      ]
    },
    {
      "cell_type": "markdown",
      "source": [
        "Creamos una descripción de las columnas a tratar:\n",
        "1. La columna \"fecha\" se refiere a la fecha del accidente\n",
        "2. La columna \"HORA declarada\" se refiere a la hora local en la que ocurrió el accidente\n",
        "3. La columna \"Location\" se refiere a la ubicación donde ocurrió el accidente\n",
        "4. La columna \"OperadOR\" se refiere a Aerolínea u operador de la aeronave\n",
        "5. La columna \"flight_no\" se refiere al número de vuelo asignado por el operador de la aeronave\n",
        "6. La columna \"route\" se refiere a la ruta completa o parcial volada antes del accidente\n",
        "7. La columna \"ac_type\" se refiere a Tipo de aeronave\n",
        "8. La columna \"registration\" se refiere a la matrícula OACI de la aeronave\n",
        "9. La columna \"cn_ln\" se refiere al Número de construcción o de serie o también al Número de línea o de fuselaje\n",
        "10. La columna \"all_aboard\" se refiere a Total a bordo (pasajeros con tripulación)\n",
        "11. La columna \"PASAJEROS A BORDO\" se refiere a cantidad de pasajeros a bordo\n",
        "12. La columna \"crew_aboard\" se refiere a la tripulación a bordo\n",
        "13. La columna \"cantidad de fallecidos\" se refiere a la cantidad total de fallecidos (personas que estaban dentro de la aeronave)\n",
        "14. La columna \"passenger_fatalities\" se refiere a la cantidad de muertes de pasajeros\n",
        "15. La columna \"crew_fatalities\" se refiere a la cantidad de muertes de la tripulación\n",
        "16. La columna \"ground\" se refiere al total de muertos en tierra\n",
        "17. La columna \"summary\" se refiere a Breve descripción del accidente y la causa si se conoce"
      ],
      "metadata": {
        "id": "FE6mxac0rvQj"
      }
    },
    {
      "cell_type": "markdown",
      "source": [
        "Echando un vistazo al DataFrame, observamos varios valores perdidos de la forma \" ? \" :"
      ],
      "metadata": {
        "id": "Mkn07i-xwPPx"
      }
    },
    {
      "cell_type": "code",
      "source": [
        "print('La cantidad de valores perdidos de la forma \"?\" en cada columna es:')\n",
        "df.eq('?').sum()"
      ],
      "metadata": {
        "colab": {
          "base_uri": "https://localhost:8080/"
        },
        "id": "fS16M7vYhUYO",
        "outputId": "b1df0efe-9913-4cdc-cc97-1161390d6711"
      },
      "execution_count": 104,
      "outputs": [
        {
          "output_type": "stream",
          "name": "stdout",
          "text": [
            "La cantidad de valores perdidos de la forma \"?\" en cada columna es:\n"
          ]
        },
        {
          "output_type": "execute_result",
          "data": {
            "text/plain": [
              "id                           0\n",
              "fecha                        0\n",
              "HORA declarada            1504\n",
              "Location                     5\n",
              "OperadOR                    10\n",
              "flight_no                 3682\n",
              "route                      762\n",
              "ac_type                     13\n",
              "registration               272\n",
              "cn_ln                      667\n",
              "all_aboard                  17\n",
              "PASAJEROS A BORDO          221\n",
              "crew_aboard                219\n",
              "cantidad de fallecidos       8\n",
              "passenger_fatalities       235\n",
              "crew_fatalities            235\n",
              "ground                      44\n",
              "summary                     59\n",
              "dtype: int64"
            ]
          },
          "metadata": {},
          "execution_count": 104
        }
      ]
    },
    {
      "cell_type": "markdown",
      "source": [
        "Teniendo en cuenta la cantidad de valores perdidos en cada columna y la relevancia de cada una de las columnas, procederemos a eliminar columnas que no utilizaremos en nuestro análisis:"
      ],
      "metadata": {
        "id": "3Q6DonOA0QIj"
      }
    },
    {
      "cell_type": "code",
      "source": [
        "#Se eliminará la columna 'id' por ser irrelevante\n",
        "df = df.drop('id', axis=1)\n",
        "\n",
        "#Se eliminará la columna 'flight_no' por ser irrelevante y tener muchos valores\n",
        "#perdidos\n",
        "df = df.drop('flight_no', axis=1)\n",
        "\n",
        "#Se eliminará la columna 'route' por ser irrelevante y tener muchos valores perdidos\n",
        "df = df.drop('route', axis=1)\n",
        "\n",
        "#Se eliminará la columna 'registration' por ser irrelevante\n",
        "df = df.drop('registration', axis=1)\n",
        "\n",
        "#Se eliminará la columna 'cn_ln' por ser irrelevante y tener muchos valores perdidos\n",
        "df = df.drop('cn_ln', axis=1)\n",
        "\n",
        "#Se eliminará la columna 'PASAJEROS A BORDO' porque sus datos ya están incluidos0\n",
        "#en la columna 'all_aboard'\n",
        "df = df.drop('PASAJEROS A BORDO', axis=1)\n",
        "\n",
        "#Se eliminará la columna 'crew_aboard' porque sus datos ya están incluidos en la \n",
        "#columna 'all_aboard'\n",
        "df = df.drop('crew_aboard', axis=1)\n",
        "\n",
        "#Se eliminará la columna 'passenger_fatalities' porque sus datos ya están\n",
        "#incluidos en la columna 'cantidad de fallecidos'\n",
        "df = df.drop('passenger_fatalities', axis=1)\n",
        "\n",
        "#Se eliminará la columna 'crew_fatalities' porque sus datos ya están incluidos en\n",
        "#la columna 'cantidad de fallecidos'\n",
        "df = df.drop('crew_fatalities', axis=1)\n",
        "\n",
        "#Se eliminará la columna 'summary' por no contar con muchos datos repetidos y \n",
        "#por no contar con valores numéricos\n",
        "df = df.drop('summary', axis=1)\n",
        "\n",
        "#Se mantendrá la columna 'ground' porque sus datos no están incluidos en ninguna\n",
        "# otra columna\n",
        "\n",
        "# A pesar de que posee muchos valores perdidos, no eliminaremos la columna \n",
        "# \"HORA declarada\" porque es de alta relevancia para nuestro análisis"
      ],
      "metadata": {
        "id": "H_36KYSqbZF0"
      },
      "execution_count": 105,
      "outputs": []
    },
    {
      "cell_type": "markdown",
      "source": [
        "Con las columnas restantes haremos lo siguiente: \n",
        "\n",
        "\n",
        "*    Reemplazaremos todos los valores perdidos por el valor Nan"
      ],
      "metadata": {
        "id": "Qp7r-WmLa7QT"
      }
    },
    {
      "cell_type": "code",
      "source": [
        "# Importamos el módulo numpy para crear los valores NaN\n",
        "import numpy as np\n",
        "\n",
        "df = df.replace(['-', '?'], np.nan)\n",
        "\n",
        "#Verificamos la cantidad de valores nulos\n",
        "\n",
        "print('La cantidad de valores nulos en cada columna es:')\n",
        "\n",
        "df.isnull().sum()"
      ],
      "metadata": {
        "colab": {
          "base_uri": "https://localhost:8080/"
        },
        "id": "jaWIHVZladeq",
        "outputId": "97cfaa7a-4f5f-416b-aa1b-c9a77c5eb635"
      },
      "execution_count": 106,
      "outputs": [
        {
          "output_type": "stream",
          "name": "stdout",
          "text": [
            "La cantidad de valores nulos en cada columna es:\n"
          ]
        },
        {
          "output_type": "execute_result",
          "data": {
            "text/plain": [
              "fecha                        0\n",
              "HORA declarada            1504\n",
              "Location                     5\n",
              "OperadOR                    10\n",
              "ac_type                     13\n",
              "all_aboard                  17\n",
              "cantidad de fallecidos       8\n",
              "ground                      44\n",
              "dtype: int64"
            ]
          },
          "metadata": {},
          "execution_count": 106
        }
      ]
    },
    {
      "cell_type": "markdown",
      "source": [
        "*    La columna 'HORA declarada' tiene muchos valores nulos pero la mejor decisión será mantenerlos para no perder valores que podrían afectar mucho a las otras columnas. Para las demás columnas, sí eliminaremos las filas que posean valores nulos"
      ],
      "metadata": {
        "id": "9ytkxOn_3eI1"
      }
    },
    {
      "cell_type": "code",
      "source": [
        "#Eliminamos las filas con valores nulos en las columnas.\n",
        "df = df.dropna(subset=['Location', 'OperadOR', 'ac_type', 'all_aboard', \n",
        "                  'cantidad de fallecidos', 'ground'])\n",
        "\n",
        "#Reasignamos los números de fila para que estén completos y ordenados:\n",
        "df = df.reset_index(drop=True)\n",
        "\n",
        "#Verificamos la eliminación de los valores nulos:\n",
        "print('La cantidad de valores nulos en cada columna es:')\n",
        "df.isnull().sum()"
      ],
      "metadata": {
        "colab": {
          "base_uri": "https://localhost:8080/"
        },
        "id": "P8aHINXZbULB",
        "outputId": "da4189ec-2e19-4803-b851-ac77ebb3fa9f"
      },
      "execution_count": 107,
      "outputs": [
        {
          "output_type": "stream",
          "name": "stdout",
          "text": [
            "La cantidad de valores nulos en cada columna es:\n"
          ]
        },
        {
          "output_type": "execute_result",
          "data": {
            "text/plain": [
              "fecha                        0\n",
              "HORA declarada            1450\n",
              "Location                     0\n",
              "OperadOR                     0\n",
              "ac_type                      0\n",
              "all_aboard                   0\n",
              "cantidad de fallecidos       0\n",
              "ground                       0\n",
              "dtype: int64"
            ]
          },
          "metadata": {},
          "execution_count": 107
        }
      ]
    },
    {
      "cell_type": "markdown",
      "source": [
        "* Convetiremos los valores de la columna 'HORA declarada' en formato datetime.time"
      ],
      "metadata": {
        "id": "Md63ste0eCz_"
      }
    },
    {
      "cell_type": "code",
      "source": [
        "from datetime import datetime\n",
        "\n",
        "# Creamos una función para convertir el dato con formato str en formato time\n",
        "def convertir_a_hora(texto):\n",
        "    if pd.isna(texto):\n",
        "        return np.nan\n",
        "\n",
        "    #Debido a que algunas horas eran del tipo ' 2:00', haremos la siguiente condicional:\n",
        "      \n",
        "    elif texto.startswith(' '):\n",
        "      \n",
        "        tiempo = datetime.strptime(texto[1:], '%H:%M')\n",
        "        return tiempo.time()\n",
        "    \n",
        "    #Debido a que algunas horas eran del tipo 'c 13:00', haremos la siguiente condicional:\n",
        "\n",
        "    elif texto.startswith('c'):\n",
        "        try:\n",
        "          tiempo = datetime.strptime(texto[2:], '%H:%M')\n",
        "          return tiempo.time()\n",
        "\n",
        "        #Y considerando también casos del tipo 'c 3:00', estableceremos:\n",
        "\n",
        "        except ValueError:\n",
        "          tiempo = datetime.strptime(texto[3:], '%H:%M')\n",
        "    else:\n",
        "        try:\n",
        "            tiempo = datetime.strptime(texto, '%H:%M')\n",
        "            return tiempo.time()\n",
        "        except ValueError:\n",
        "            #Consideraremos también cuando la hora está de la forma '1534'\n",
        "            try:\n",
        "                tiempo = datetime.strptime(texto, '%H%M')\n",
        "                return tiempo.time()\n",
        "            except ValueError:\n",
        "                return np.nan\n",
        "\n",
        "# Convertimos los valores de la columna 'Hora' en objetos de formato time\n",
        "df['HORA declarada'] = df['HORA declarada'].apply(convertir_a_hora)"
      ],
      "metadata": {
        "id": "9YbMBTIWeOMP"
      },
      "execution_count": 108,
      "outputs": []
    },
    {
      "cell_type": "markdown",
      "source": [
        "\n",
        "*   Convertiremos los valores restantes en formato AAAA-mm-dd para la columna 'fecha' y en formato 'int' para las columnas 'all_aboard', 'cantidad de fallecidos' y 'ground'. Los formatos de las demás columnas se mantendrán en su formato actual: 'str'"
      ],
      "metadata": {
        "id": "7RBajjnRyMMA"
      }
    },
    {
      "cell_type": "code",
      "source": [
        "#Convertiremos los valores de la columna 'fecha' en formato AAA-mm-dd, para ello\n",
        "#crearemos una lista vacía y mediante iteraciones la llenaremos con los valores de\n",
        "#la columna 'fecha' en formato AAA-mm-dd para finalmente reemplazarla por la \n",
        "#columna original\n",
        "\n",
        "import datetime\n",
        "fecha_list=[]\n",
        "for f in df['fecha']:\n",
        "  f = datetime.datetime.strptime(f, \"%B %d, %Y\").date()\n",
        "  fecha_list.append(f)\n",
        "df['fecha'] = fecha_list\n",
        "\n",
        "#Convertiremos los valores de la columna 'all_aboard' en formato int:\n",
        "\n",
        "aboard_list=[]\n",
        "for a in df['all_aboard']:\n",
        "  a = int(a)\n",
        "  aboard_list.append(a)\n",
        "df['all_aboard'] = aboard_list\n",
        "\n",
        "#Convertiremos los valores de la columna 'cantidad de fallecidos' en formato int:\n",
        "\n",
        "fallecidos_list=[]\n",
        "for f in df['cantidad de fallecidos']:\n",
        "  f = int(f)\n",
        "  fallecidos_list.append(f)\n",
        "\n",
        "df['cantidad de fallecidos'] = fallecidos_list\n",
        "\n",
        "#Convertiremos los valores de la columna 'ground' en formato int\n",
        "ground_list=[]\n",
        "for g in df['ground']:\n",
        "  g = int(g)\n",
        "  ground_list.append(g)\n",
        "\n",
        "df['ground']=ground_list"
      ],
      "metadata": {
        "id": "QkbMAWf9ysTC"
      },
      "execution_count": 109,
      "outputs": []
    },
    {
      "cell_type": "markdown",
      "source": [
        "Exportamos"
      ],
      "metadata": {
        "id": "Ne43khtltjKp"
      }
    },
    {
      "cell_type": "code",
      "source": [
        "df.to_csv('accidentesaviones_limpio.csv', index=False)"
      ],
      "metadata": {
        "id": "D-AEi1Wktk3f"
      },
      "execution_count": 111,
      "outputs": []
    },
    {
      "cell_type": "markdown",
      "source": [
        "**Análisis Exploratorio de los datos (EDA)**\n",
        "\n",
        "Se elaborará un reporte que incluya un resumen de estadísticas descriptivas de los datasets, análisis univariados (por ejemplo, distribución de variables numéricas), análisis bivariados (correlación entre variables numéricas y/o categóricas) y cualquier análisis que ayude al mejor entendimiento de los datos (encontrar patrones, outliers y/o anomalías, entre otros)."
      ],
      "metadata": {
        "id": "i_EyhgzIIYY7"
      }
    },
    {
      "cell_type": "markdown",
      "source": [
        "**ANÁLISIS UNIVARIADO**"
      ],
      "metadata": {
        "id": "2KqFItJ3BiPZ"
      }
    },
    {
      "cell_type": "markdown",
      "source": [
        "**Gráfico de barras**"
      ],
      "metadata": {
        "id": "JBDXSW7xBo5o"
      }
    },
    {
      "cell_type": "code",
      "source": [
        "import matplotlib.pyplot as plt\n",
        "\n",
        "intervalos_list = []\n",
        "\n",
        "for h in df['HORA declarada']:\n",
        "  if type(h) != float:\n",
        "    h = h.hour\n",
        "    intervalos_list.append(h)\n",
        "  else:\n",
        "    h = np.nan\n",
        "    intervalos_list.append(h)\n",
        "\n",
        "df['intervalo_horas'] = intervalos_list\n",
        "\n",
        "conteo_horas = df['intervalo_horas'].value_counts().sort_index()\n",
        "\n",
        "# Creamos el gráfico de barras\n",
        "fig, ax = plt.subplots(figsize=(10,6))\n",
        "conteo_horas.plot(kind='bar', ax=ax)\n",
        "\n",
        "# Personalizamos el gráfico\n",
        "ax.set_xlabel('Intervalos')\n",
        "ax.set_ylabel('Conteo')\n",
        "ax.set_title('Número de accidentes por intervalos de tiempo')\n",
        "\n",
        "# Modificamos los ticks del eje x\n",
        "plt.xticks([0, 1, 2, 3, 4, 5, 6, 7, 8, 9, 10, 11, 12, 13, 14, 15, 16, 17, 18, \n",
        "            19, 20, 21, 22, 23], ['0-1 hrs.', '1-2 hrs.', '2-3 hrs.', '3-4 hrs.', \n",
        "                                  '4-5 hrs.', '5-6 hrs.', '6-7 hrs.', '7-8 hrs.', \n",
        "                                  '8-9 hrs.', '9-10 hrs.', '10-11 hrs.',\n",
        "                                  '11-12 hrs.','12-13 hrs.', '13-14 hrs.', \n",
        "                                  '14-15 hrs.', '15-16 hrs.', '16-17 hrs.', \n",
        "                                  '17-18 hrs.', '18-19 hrs.', '19-20 hrs.', \n",
        "                                  '20-21 hrs.', '21-22 hrs.','22-23 hrs.', \n",
        "                                  '23-0 hrs.'])\n",
        "\n",
        "#Mostramos el gráfico\n",
        "plt.show()\n",
        "\n",
        "#Eliminamos la columna creada para no ocasionar problemas en el futuro\n",
        "df = df.drop('intervalo_horas', axis=1)\n"
      ],
      "metadata": {
        "colab": {
          "base_uri": "https://localhost:8080/",
          "height": 621
        },
        "id": "CYI_6S3wMYeS",
        "outputId": "4065d52e-e94e-4990-a518-acf5f9320cf9"
      },
      "execution_count": 98,
      "outputs": [
        {
          "output_type": "display_data",
          "data": {
            "text/plain": [
              "<Figure size 1000x600 with 1 Axes>"
            ],
            "image/png": "[encoded data removed]"
          },
          "metadata": {}
        }
      ]
    },
    {
      "cell_type": "code",
      "source": [
        "import matplotlib.pyplot as plt\n",
        "\n",
        "# Convertimos la columna 'fecha' a tipo datetime si aún no lo es\n",
        "df['fecha'] = pd.to_datetime(df['fecha'])\n",
        "\n",
        "# Agrupamos por períodos de décadas\n",
        "df['decada'] = df['fecha'].dt.year // 10 * 10\n",
        "conteo_decadas = df['decada'].value_counts().sort_index()\n",
        "\n",
        "# Creamos el gráfico de barras\n",
        "fig, ax = plt.subplots(figsize=(10, 6))\n",
        "conteo_decadas.plot(kind='bar', ax=ax)\n",
        "\n",
        "# Personalizamos el gráfico\n",
        "ax.set_xlabel('Década')\n",
        "ax.set_ylabel('Conteo')\n",
        "ax.set_title('Número de accidentes por década')\n",
        "\n",
        "\n",
        "# Mostramos el gráfico\n",
        "plt.show()\n",
        "\n",
        "#Eliminamos la columna creada para evitar problemas en el futuro\n",
        "df = df.drop('decada', axis = 1)"
      ],
      "metadata": {
        "colab": {
          "base_uri": "https://localhost:8080/",
          "height": 586
        },
        "id": "avgCTYi9CHLs",
        "outputId": "11bfb446-d4c6-46da-9724-e594393383ef"
      },
      "execution_count": 101,
      "outputs": [
        {
          "output_type": "display_data",
          "data": {
            "text/plain": [
              "<Figure size 1000x600 with 1 Axes>"
            ],
            "image/png": "[encoded data removed]"
          },
          "metadata": {}
        }
      ]
    }
  ]
}